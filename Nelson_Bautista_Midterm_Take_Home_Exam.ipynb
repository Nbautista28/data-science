{
  "nbformat": 4,
  "nbformat_minor": 0,
  "metadata": {
    "colab": {
      "provenance": [],
      "collapsed_sections": [],
      "include_colab_link": true
    },
    "kernelspec": {
      "name": "python3",
      "display_name": "Python 3"
    },
    "language_info": {
      "name": "python"
    }
  },
  "cells": [
    {
      "cell_type": "markdown",
      "metadata": {
        "id": "view-in-github",
        "colab_type": "text"
      },
      "source": [
        "<a href=\"https://colab.research.google.com/github/Nbautista28/data-science/blob/main/Nelson_Bautista_Midterm_Take_Home_Exam.ipynb\" target=\"_parent\"><img src=\"https://colab.research.google.com/assets/colab-badge.svg\" alt=\"Open In Colab\"/></a>"
      ]
    },
    {
      "cell_type": "markdown",
      "source": [
        "https://setosa.io/ev/ordinary-least-squares-regression/"
      ],
      "metadata": {
        "id": "_FNrKUs8NEa_"
      }
    },
    {
      "cell_type": "code",
      "execution_count": 10,
      "metadata": {
        "id": "_G0TfGmrgQMw"
      },
      "outputs": [],
      "source": [
        "import numpy as np #required to run anything\n",
        "import matplotlib.pyplot as plt"
      ]
    },
    {
      "cell_type": "markdown",
      "source": [
        "#Linear Fit with Real Data\n",
        "\n",
        "Required Tools: Ruler and String \n",
        "\n",
        "1.   Collect 5 round objects (Wheel, Jar, Frisbee, etc)\n",
        "2.   For each object measure the diameter and circumfrence and create a table like that shown below.\n",
        "\n",
        "\n"
      ],
      "metadata": {
        "id": "SHTBrQ4mgs0Z"
      }
    },
    {
      "cell_type": "markdown",
      "source": [
        "![image.png](data:image/png;base64,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)"
      ],
      "metadata": {
        "id": "73zRJ7XshxJZ"
      }
    },
    {
      "cell_type": "markdown",
      "source": [
        "#Replace the values below with the values from your table"
      ],
      "metadata": {
        "id": "7p2ypiyXjkP4"
      }
    },
    {
      "cell_type": "code",
      "source": [
        "D = np.array([15,10,35,11,6])    # <- Put your numbers here  Diameter\n",
        "C = np.array([46,35,56,18,9])  #                           Circumference"
      ],
      "metadata": {
        "id": "WQPYMTe5gj1Y"
      },
      "execution_count": 11,
      "outputs": []
    },
    {
      "cell_type": "code",
      "source": [
        "plt.plot(D,C,'g.') #the letter in front the dot determines color"
      ],
      "metadata": {
        "id": "iOjc7R8oijU5",
        "outputId": "111d2b6e-fdde-4051-eaf0-9a49bcd00c55",
        "colab": {
          "base_uri": "https://localhost:8080/",
          "height": 283
        }
      },
      "execution_count": 12,
      "outputs": [
        {
          "output_type": "execute_result",
          "data": {
            "text/plain": [
              "[<matplotlib.lines.Line2D at 0x7f27292a6cd0>]"
            ]
          },
          "metadata": {},
          "execution_count": 12
        },
        {
          "output_type": "display_data",
          "data": {
            "text/plain": [
              "<Figure size 432x288 with 1 Axes>"
            ],
            "image/png": "[encoded data removed]"
          },
          "metadata": {
            "needs_background": "light"
          }
        }
      ]
    },
    {
      "cell_type": "code",
      "source": [
        "x = D #diameter\n",
        "y = C #circumference"
      ],
      "metadata": {
        "id": "o7xP3tcrixMQ"
      },
      "execution_count": 13,
      "outputs": []
    },
    {
      "cell_type": "code",
      "source": [
        "best_loss_so_far = 10000000000 #always start with a huge number \n",
        "m_best = 0\n",
        "b_best = 0\n",
        "\n",
        "for m_guess in np.linspace(-100,100,100):\n",
        "  for b_guess in np.linspace(-100,100,100):\n",
        "    y_guess = m_guess * x + b_guess\n",
        "\n",
        "    loss = np.sum((y_guess - y)**2) #negative values become positive by squaring it \n",
        "\n",
        "\n",
        "    if loss < best_loss_so_far:\n",
        "      m_best = m_guess\n",
        "      b_best = b_guess\n",
        "      best_loss_so_far = loss\n",
        "print(\"found best fit\")\n",
        "print(m_best,b_best,loss)"
      ],
      "metadata": {
        "id": "uCyOHu7eyXb0",
        "colab": {
          "base_uri": "https://localhost:8080/"
        },
        "outputId": "f403eac1-6d89-4a6e-fdc0-b55900bad05e"
      },
      "execution_count": 14,
      "outputs": [
        {
          "output_type": "stream",
          "name": "stdout",
          "text": [
            "found best fit\n",
            "1.0101010101010104 17.171717171717177 17983682.0\n"
          ]
        }
      ]
    },
    {
      "cell_type": "code",
      "source": [
        "y_guess = best_m * x + best_b #means y = mx+b \n",
        "\n",
        "plt.plot(x,y_guess,'r');\n",
        "plt.plot(D,C,'g.');\n",
        "plt.show()\n",
        "\n",
        "print(best_loss,best_m,best_b)"
      ],
      "metadata": {
        "id": "ytDUHIqiysKC",
        "outputId": "25eb7c3c-79dc-4eee-d388-a87764f20330",
        "colab": {
          "base_uri": "https://localhost:8080/",
          "height": 283
        }
      },
      "execution_count": 15,
      "outputs": [
        {
          "output_type": "display_data",
          "data": {
            "text/plain": [
              "<Figure size 432x288 with 1 Axes>"
            ],
            "image/png": "[encoded data removed]"
          },
          "metadata": {
            "needs_background": "light"
          }
        },
        {
          "output_type": "stream",
          "name": "stdout",
          "text": [
            "567.1341699826547 1.0101010101010104 17.171717171717177\n"
          ]
        }
      ]
    },
    {
      "cell_type": "code",
      "source": [],
      "metadata": {
        "id": "ECs96Or42w9K"
      },
      "execution_count": 15,
      "outputs": []
    },
    {
      "cell_type": "markdown",
      "source": [
        "#question 1 \n",
        "m = slope \n",
        "b = y intercept \n"
      ],
      "metadata": {
        "id": "20ou_vCp3bm7"
      }
    },
    {
      "cell_type": "markdown",
      "source": [
        "#question 2\n",
        "m= 1.0101010101010104 \n",
        "b = 17.171717171717177\n"
      ],
      "metadata": {
        "id": "bq6ztJvT3bps"
      }
    },
    {
      "cell_type": "markdown",
      "source": [
        "#question 3\n",
        "thats where the data starts and it inlcudes the line of best fit "
      ],
      "metadata": {
        "id": "f0xC7V3E3tPr"
      }
    },
    {
      "cell_type": "code",
      "source": [],
      "metadata": {
        "id": "iTSsFg9P3r_t"
      },
      "execution_count": 15,
      "outputs": []
    },
    {
      "cell_type": "markdown",
      "source": [],
      "metadata": {
        "id": "WdgpDcO13slY"
      }
    }
  ]
}